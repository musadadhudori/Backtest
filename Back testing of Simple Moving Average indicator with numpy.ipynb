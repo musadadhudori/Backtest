{
 "cells": [
  {
   "cell_type": "markdown",
   "metadata": {},
   "source": [
    "<p style=\"font-family:Times;font-size:175%; text-align:center\"> <font color='blue'>Back Testing of Simple Moving Average Indicator</font></p>\n",
    "\n",
    "___\n",
    "> **Input** :\n",
    ">* Simulation time (the length of the simulation back testing will run in days)\n",
    ">* SMA (simple moving average indicator) \n",
    "\n",
    "> **Procedure** :\n",
    ">* If yesterday's closing price was on the line or below the SMA line, today we will open a long position\n",
    ">* If yesterday's closing price was above the SMA line, today we will open a short position\n",
    ">* The position will be closed when today's price closes\n",
    "\n",
    "> **Output** :\n",
    ">* Profit on long positions\n",
    ">* Profit on short positions\n",
    ">* Total profit\n",
    "\n",
    ">* Loss on long positions\n",
    ">* Loss on short positions\n",
    ">* Total loss\n",
    "\n",
    ">* Winning rate\n",
    ">* Return on Investment"
   ]
  },
  {
   "cell_type": "code",
   "execution_count": 1,
   "metadata": {
    "jupyter": {
     "source_hidden": true
    }
   },
   "outputs": [],
   "source": [
    "import numpy as np\n",
    "import pandas as pd\n",
    "import yfinance as yf #yahoo finance \n",
    "import matplotlib.pyplot as plt"
   ]
  },
  {
   "cell_type": "code",
   "execution_count": 2,
   "metadata": {},
   "outputs": [],
   "source": [
    "#input\n",
    "capital = 100 #($)\n",
    "simulation_time = 1000 #days\n",
    "SMA = 30 #simple moving average\n",
    "pair = 'BTC-USD'\n",
    "location = 'C:/Users/Musadadhudori/Music/CRYTHOCURRENCY/Robot Trading/BTC/Single Target/Portfolio/Journal numpy.xlsx'"
   ]
  },
  {
   "cell_type": "code",
   "execution_count": 3,
   "metadata": {},
   "outputs": [
    {
     "name": "stdout",
     "output_type": "stream",
     "text": [
      "[*********************100%***********************]  1 of 1 completed\n"
     ]
    }
   ],
   "source": [
    "start_date = pd.Timestamp.today() - pd.Timedelta(days=simulation_time + SMA)\n",
    "end_date = pd.Timestamp.today()\n",
    "data = yf.download(pair, start =start_date)\n",
    "start_date += pd.Timedelta(days=SMA)"
   ]
  },
  {
   "cell_type": "code",
   "execution_count": 4,
   "metadata": {},
   "outputs": [
    {
     "name": "stdout",
     "output_type": "stream",
     "text": [
      "Simulation runs from \u001b[1m2020-01-23 09:16:44.613662\u001b[0m to \u001b[1m2022-10-19 09:16:44.613662\u001b[0m\n",
      "Winrate Method: 50.40%\n",
      "\n",
      "\u001b[1mSimple Interest:\u001b[0m\n",
      "Return if hold and fix capital ($): 156.85\n",
      "\n",
      "return from Long Positions ($): 175.74\n",
      "\n",
      "return from Short Positions ($): 18.89\n",
      "\n",
      "Return Method ($): 194.63\n",
      "\n",
      "\n",
      "\u001b[1mCompounded Interest:\u001b[0m\n",
      "Return Hold ($): 122.72\n",
      "\n",
      "return from Long Positions ($): 321.51\n",
      "\n",
      "return from Short Positions ($): -20.34\n",
      "\n",
      "Return Method ($): 235.79\n"
     ]
    }
   ],
   "source": [
    "print('Simulation runs from ' + '\\033[1m' + str(start_date) + '\\033[0m' + ' to ' + '\\033[1m' + str(end_date) + '\\033[0m')\n",
    "\n",
    "c = np.flip(np.array(data.Close))\n",
    "o = np.flip(np.array(data.Close.shift(1)))\n",
    "\n",
    "arr_win_long  = (c[1:simulation_time+1]>=[np.mean(c[i: i+SMA]) for i in range(1, simulation_time+1)])*((c/o)[:simulation_time]>1)*1\n",
    "arr_win_short = (c[1:simulation_time+1]< [np.mean(c[i: i+SMA]) for i in range(1, simulation_time+1)])*((c/o)[:simulation_time]<1)*1\n",
    "print('Winrate Method: %5.2f' %(100*(np.sum(arr_win_long + arr_win_short))/simulation_time) + '%\\n')\n",
    "\n",
    "print('\\033[1m' + 'Simple Interest:'+ '\\033[0m')\n",
    "print('Return if hold and fix capital ($): %5.2f' %(capital*sum((c/o)[:simulation_time]-1)) +'\\n')\n",
    "\n",
    "arr_long_simp  = (c[1:simulation_time+1]>=[np.mean(c[i: i+SMA]) for i in range(1, simulation_time+1)])*((c/o)[:simulation_time]-1)\n",
    "arr_short_simp = (c[1:simulation_time+1]< [np.mean(c[i: i+SMA]) for i in range(1, simulation_time+1)])*(1-(c/o)[:simulation_time])\n",
    "\n",
    "profit_long = np.sum(arr_long_simp, where = arr_long_simp>0)\n",
    "loss_long   = np.sum(arr_long_simp, where = arr_long_simp<0)\n",
    "#print('profit from Long Positions ($): %5.2f' %(capital*(profit_long)) )\n",
    "#print('loss   from Long Positions ($): %5.2f' %(capital*(loss_long)) )\n",
    "print('return from Long Positions ($): %5.2f' %(capital*(profit_long + loss_long)) + '\\n')\n",
    "\n",
    "profit_short = np.sum(arr_short_simp, where = arr_short_simp>0)\n",
    "loss_short   = np.sum(arr_short_simp, where = arr_short_simp<0)\n",
    "#print('profit from Short Positions ($): %5.2f' %(capital*(profit_short)) )\n",
    "#print('loss   from Short Positions ($): %5.2f' %(capital*(loss_short)) )\n",
    "print('return from Short Positions ($): %5.2f' %(capital*(profit_short + loss_short)) + '\\n')\n",
    "\n",
    "print('Return Method ($): %5.2f' %(capital*(profit_long + profit_short + loss_long + loss_short)) + '\\n\\n')\n",
    "\n",
    "\n",
    "print('\\033[1m' + 'Compounded Interest:'+ '\\033[0m')\n",
    "print('Return Hold ($): %5.2f' %(capital*(c[0]/o[simulation_time-1] - 1)) +'\\n')\n",
    "\n",
    "arr_long_comp  = (c[1:simulation_time+1]>=[np.mean(c[i: i+SMA]) for i in range(1, simulation_time+1)])*((c/o)[:simulation_time])\n",
    "arr_short_comp = (c[1:simulation_time+1]< [np.mean(c[i: i+SMA]) for i in range(1, simulation_time+1)])*(2-(c/o)[:simulation_time])\n",
    "\n",
    "profit_long = np.prod(arr_long_comp, where = arr_long_comp>1)\n",
    "loss_long   = np.prod(arr_long_comp, where = arr_long_comp>0)/profit_long\n",
    "#print('profit from Long Positions ($): %5.2f' %(capital*(profit_long - 1)) )\n",
    "#print('loss   from Long Positions ($): %5.2f' %(capital*(loss_long - 1)) )\n",
    "print('return from Long Positions ($): %5.2f' %(capital*(profit_long*loss_long - 1)) + '\\n')\n",
    "\n",
    "profit_short = np.prod(arr_short_comp, where = arr_short_comp>1)\n",
    "loss_short   = np.prod(arr_short_comp, where = arr_short_comp>0)/profit_short\n",
    "#print('profit from Short Positions ($): %5.2f' %(capital*(profit_short-1)) )\n",
    "#print('loss   from Short Positions ($): %5.2f' %(capital*(loss_short-1)) )\n",
    "print('return from Short Positions ($): %5.2f' %(capital*(profit_short*loss_short-1)) + '\\n')\n",
    "\n",
    "print('Return Method ($): %5.2f' %(capital*(profit_long*profit_short*loss_long*loss_short-1)) )"
   ]
  },
  {
   "cell_type": "code",
   "execution_count": 5,
   "metadata": {},
   "outputs": [],
   "source": [
    "journal = pd.DataFrame()\n",
    "\n",
    "arr_date =  np.array([start_date + pd.Timedelta(days=i) for i in range(simulation_time)])\n",
    "\n",
    "typ = np.where(arr_long_comp>0, 'long', 'short')\n",
    "typ = np.flip(typ)\n",
    "\n",
    "arr_win = arr_win_short + arr_win_long\n",
    "arr_win = np.flip(arr_win)\n",
    "arr_winrate = np.cumsum(arr_win)/np.arange(1, simulation_time+1)\n",
    "\n",
    "arr_comp = arr_long_comp + arr_short_comp\n",
    "arr_comp = np.flip(arr_comp)\n",
    "\n",
    "arr_simp = arr_long_simp + arr_short_simp\n",
    "arr_simp = np.flip(arr_simp)\n",
    "\n",
    "arr_long_comp = np.where(arr_long_comp>0, arr_long_comp, 1)\n",
    "arr_short_comp = np.where(arr_short_comp>0, arr_short_comp, 1)\n",
    "\n",
    "journal['Date'] = arr_date\n",
    "journal['Type'] = typ\n",
    "journal['Winrate'] = arr_winrate\n",
    "\n",
    "journal['Hold simple'] = capital*(np.cumsum(np.flip((c/o)[:simulation_time]-1))+1)\n",
    "journal['Simple long'] = capital*(np.cumsum(np.flip(arr_long_simp)) + 1)\n",
    "journal['Simple short'] = capital*(np.cumsum(np.flip(arr_short_simp)) + 1)\n",
    "journal['Return simple'] = capital*(np.cumsum(arr_simp) + 1)\n",
    "\n",
    "journal['Hold compounded'] = capital*np.array([c[i]/o[simulation_time-1] for i in range(simulation_time-1, -1,-1)])\n",
    "journal['Compounded long'] = capital*np.cumprod(np.flip(arr_long_comp))\n",
    "journal['Compounded short'] = capital*np.cumprod(np.flip(arr_short_comp))\n",
    "journal['Return compounded'] = capital*np.cumprod(arr_comp)\n",
    "\n",
    "journal.to_excel(location, index = False)"
   ]
  }
 ],
 "metadata": {
  "kernelspec": {
   "display_name": "Python 3",
   "language": "python",
   "name": "python3"
  },
  "language_info": {
   "codemirror_mode": {
    "name": "ipython",
    "version": 3
   },
   "file_extension": ".py",
   "mimetype": "text/x-python",
   "name": "python",
   "nbconvert_exporter": "python",
   "pygments_lexer": "ipython3",
   "version": "3.8.5"
  }
 },
 "nbformat": 4,
 "nbformat_minor": 4
}
