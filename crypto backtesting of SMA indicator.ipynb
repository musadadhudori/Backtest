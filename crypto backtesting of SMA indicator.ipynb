{
 "cells": [
  {
   "cell_type": "markdown",
   "metadata": {
    "jp-MarkdownHeadingCollapsed": true,
    "tags": []
   },
   "source": [
    "### Preparation"
   ]
  },
  {
   "cell_type": "code",
   "execution_count": 1,
   "metadata": {},
   "outputs": [],
   "source": [
    "#!pip install numpy\n",
    "#!pip install pandas\n",
    "#!pip install requests\n",
    "#!pip install tqdm\n",
    "#!pip install sqlalchemy"
   ]
  },
  {
   "cell_type": "markdown",
   "metadata": {
    "jp-MarkdownHeadingCollapsed": true,
    "tags": []
   },
   "source": [
    "### Packages"
   ]
  },
  {
   "cell_type": "code",
   "execution_count": 2,
   "metadata": {
    "tags": []
   },
   "outputs": [],
   "source": [
    "import numpy as np\n",
    "import pandas as pd\n",
    "import requests\n",
    "import os\n",
    "from tqdm import tqdm\n",
    "from sqlalchemy import create_engine"
   ]
  },
  {
   "cell_type": "markdown",
   "metadata": {
    "tags": []
   },
   "source": [
    "### Input"
   ]
  },
  {
   "cell_type": "code",
   "execution_count": 3,
   "metadata": {},
   "outputs": [],
   "source": [
    "coins = ('BTCUSDT', 'ETHUSDT', 'BNBUSDT', 'SOLUSDT', 'ADAUSDT', 'DOTUSDT', 'DOGEUSDT', 'AVAXUSDT', 'SHIBUSDT',\n",
    "         'MATICUSDT', 'LTCUSDT', 'UNIUSDT', 'ALGOUSDT', 'TRXUSDT', 'LINKUSDT', 'MANAUSDT', 'ATOMUSDT', 'VETUSDT',\n",
    "         'FTMUSDT')\n",
    "\n",
    "capital   = 100 #$\n",
    "UTC       = 7\n",
    "SMA       = 28 #Simple Moving Average\n",
    "timeframe = '4h'\n",
    "#tradingfee = 0"
   ]
  },
  {
   "cell_type": "markdown",
   "metadata": {
    "jp-MarkdownHeadingCollapsed": true,
    "tags": []
   },
   "source": [
    "### Download data"
   ]
  },
  {
   "cell_type": "code",
   "execution_count": 4,
   "metadata": {
    "tags": []
   },
   "outputs": [],
   "source": [
    "def download_data(symbol, timeframe):\n",
    "    \n",
    "    resp = requests.get('https://api.binance.us/api/v3/klines?symbol=' + symbol + '&interval=' + timeframe + '&limit=1000')\n",
    "    frame = pd.DataFrame(resp.json())\n",
    "    frame = frame.iloc[:,:5]\n",
    "    frame.columns = ['Time', 'Open', 'High', 'Low', 'Close']\n",
    "    frame[['Open', 'High', 'Low', 'Close']] = frame[['Open', 'High', 'Low', 'Close']].astype(float)\n",
    "    frame.Time = pd.to_datetime(frame.Time, unit='ms') + pd.Timedelta(hours=UTC)\n",
    "\n",
    "    return frame"
   ]
  },
  {
   "cell_type": "code",
   "execution_count": 5,
   "metadata": {
    "tags": []
   },
   "outputs": [
    {
     "name": "stderr",
     "output_type": "stream",
     "text": [
      "100%|██████████| 19/19 [00:18<00:00,  1.05it/s]\n"
     ]
    }
   ],
   "source": [
    "if os.path.exists(\"Crypto.db\"):\n",
    "    os.remove(\"Crypto.db\")\n",
    "    \n",
    "engine = create_engine('sqlite:///Crypto.db')\n",
    "\n",
    "for coin in tqdm(coins):\n",
    "    download_data(coin, timeframe).to_sql(coin, engine, index=False)"
   ]
  },
  {
   "cell_type": "markdown",
   "metadata": {
    "tags": []
   },
   "source": [
    "### Main Program"
   ]
  },
  {
   "cell_type": "code",
   "execution_count": 6,
   "metadata": {
    "tags": []
   },
   "outputs": [],
   "source": [
    "class Backtest_SMA:\n",
    "    \n",
    "    def __init__(self, capital, SMA, coins): \n",
    "        self.capital = capital\n",
    "        self.SMA     = SMA\n",
    "        self.coins   = coins\n",
    "            \n",
    "    def method(self, coin):\n",
    "        data = pd.read_sql(coin, engine).set_index('Time')  \n",
    "        \n",
    "        data['sma'] = data.Close.rolling(self.SMA).mean()\n",
    "        data.dropna(inplace=True)\n",
    "    \n",
    "        data['Type'] = np.where(data['Close'].shift(1) > data['sma'].shift(1), 'long', 'short')\n",
    "        \n",
    "        data['change'] = data.Close.pct_change()\n",
    "        \n",
    "    \n",
    "        data['long strategy']  = np.where(data['Close'] > data['sma'], 1, 0)\n",
    "        data['Long positions'] = self.capital*(np.cumprod(data['long strategy'].shift(1)*data['change'] + 1))\n",
    "        \n",
    "        data['short strategy']  = np.where(data['Close'] > data['sma'], 0, -1)\n",
    "        data['Short positions'] = self.capital*(np.cumprod(data['short strategy'].shift(1)*data['change'] + 1))\n",
    "        \n",
    "        data['Return SMA'] = data['Long positions']*data['Short positions']/self.capital\n",
    "        data['Return hold']  = self.capital*np.cumprod(data['change']+1)\n",
    "    \n",
    "        data['win pos'] = np.where(data['Close']> data['sma'], 1, -1)\n",
    "        data['win']     = np.cumsum(np.where(data['win pos'].shift(1)*data['change'] > 0, 1, 0))\n",
    "        \n",
    "        data.dropna(inplace=True)\n",
    "        data['Winrate'] = data['win']/np.arange(1, len(data) + 1)\n",
    "        \n",
    "        return data.loc[:, ['Winrate', 'Type', 'Long positions', 'Short positions', 'Return SMA', 'Return hold']]\n",
    "    \n",
    "    \n",
    "    def sorting(self):\n",
    "        profits = []\n",
    "        \n",
    "        for coin in self.coins:\n",
    "            df = self.method(coin)\n",
    "            \n",
    "            ret = df[['Return SMA', 'Return hold']]\n",
    "            ret.columns = ['Return SMA ($)', 'Return hold ($)']\n",
    "            \n",
    "            profits.append(ret.iloc[-1,:])\n",
    "\n",
    "        frame = pd.DataFrame(profits, self.coins)\n",
    "        frame['edges ($)'] = frame['Return SMA ($)'] - frame['Return hold ($)']\n",
    "        frame = frame.sort_values('edges ($)', ascending=False)\n",
    "        return frame\n",
    "\n",
    "    \n",
    "    def output(self, coin):\n",
    "        data = self.method(coin)\n",
    "        \n",
    "        print('Simulation of ' + '\\033[1m' + str(coin) + '\\033[0m' + ' runs from ' + '\\033[1m' + str(data.index[0]) + '\\033[0m' + ' to ' + '\\033[1m' + str(data.index[-1]) + '\\033[0m')\n",
    "        print('Winrate Method: %5.2f' %(100*data['Winrate'][-1]) + '%\\n')\n",
    "\n",
    "        print('Return Hold                : $%5.2f' %(data['Return hold'][-1]))\n",
    "        print('return from Long Positions : $%5.2f' %(data['Long positions'][-1]))\n",
    "        print('return from Short Positions: $%5.2f' %(data['Short positions'][-1]))\n",
    "        print('Return Method              : $%5.2f' %(data['Return SMA'][-1]))\n",
    "\n",
    "        \n",
    "    def journal(self, coin):\n",
    "        if os.path.exists('Journal ' + coin + '.xlsx'):\n",
    "            os.remove('Journal ' + coin + '.xlsx')\n",
    "        \n",
    "        self.method(coin).to_excel('Journal ' + coin + '.xlsx', engine='xlsxwriter') "
   ]
  },
  {
   "cell_type": "code",
   "execution_count": 7,
   "metadata": {},
   "outputs": [],
   "source": [
    "backtesting = Backtest_SMA(capital, SMA, coins)"
   ]
  },
  {
   "cell_type": "markdown",
   "metadata": {
    "tags": []
   },
   "source": [
    "### Output"
   ]
  },
  {
   "cell_type": "code",
   "execution_count": 8,
   "metadata": {},
   "outputs": [],
   "source": [
    "#backtesting.method('AVAXUSDT')"
   ]
  },
  {
   "cell_type": "code",
   "execution_count": 9,
   "metadata": {},
   "outputs": [
    {
     "data": {
      "text/html": [
       "<div>\n",
       "<style scoped>\n",
       "    .dataframe tbody tr th:only-of-type {\n",
       "        vertical-align: middle;\n",
       "    }\n",
       "\n",
       "    .dataframe tbody tr th {\n",
       "        vertical-align: top;\n",
       "    }\n",
       "\n",
       "    .dataframe thead th {\n",
       "        text-align: right;\n",
       "    }\n",
       "</style>\n",
       "<table border=\"1\" class=\"dataframe\">\n",
       "  <thead>\n",
       "    <tr style=\"text-align: right;\">\n",
       "      <th></th>\n",
       "      <th>Return SMA ($)</th>\n",
       "      <th>Return hold ($)</th>\n",
       "      <th>edges ($)</th>\n",
       "    </tr>\n",
       "  </thead>\n",
       "  <tbody>\n",
       "    <tr>\n",
       "      <th>AVAXUSDT</th>\n",
       "      <td>199.485788</td>\n",
       "      <td>52.948353</td>\n",
       "      <td>146.537435</td>\n",
       "    </tr>\n",
       "    <tr>\n",
       "      <th>ETHUSDT</th>\n",
       "      <td>200.271041</td>\n",
       "      <td>66.782997</td>\n",
       "      <td>133.488044</td>\n",
       "    </tr>\n",
       "    <tr>\n",
       "      <th>SOLUSDT</th>\n",
       "      <td>133.238019</td>\n",
       "      <td>34.569314</td>\n",
       "      <td>98.668705</td>\n",
       "    </tr>\n",
       "    <tr>\n",
       "      <th>SHIBUSDT</th>\n",
       "      <td>173.066672</td>\n",
       "      <td>84.873950</td>\n",
       "      <td>88.192722</td>\n",
       "    </tr>\n",
       "    <tr>\n",
       "      <th>BTCUSDT</th>\n",
       "      <td>132.718009</td>\n",
       "      <td>54.606231</td>\n",
       "      <td>78.111778</td>\n",
       "    </tr>\n",
       "    <tr>\n",
       "      <th>ATOMUSDT</th>\n",
       "      <td>186.350084</td>\n",
       "      <td>112.228049</td>\n",
       "      <td>74.122035</td>\n",
       "    </tr>\n",
       "    <tr>\n",
       "      <th>BNBUSDT</th>\n",
       "      <td>141.876587</td>\n",
       "      <td>91.410424</td>\n",
       "      <td>50.466162</td>\n",
       "    </tr>\n",
       "    <tr>\n",
       "      <th>DOGEUSDT</th>\n",
       "      <td>153.049283</td>\n",
       "      <td>105.801148</td>\n",
       "      <td>47.248135</td>\n",
       "    </tr>\n",
       "    <tr>\n",
       "      <th>ADAUSDT</th>\n",
       "      <td>74.477984</td>\n",
       "      <td>48.783938</td>\n",
       "      <td>25.694045</td>\n",
       "    </tr>\n",
       "    <tr>\n",
       "      <th>FTMUSDT</th>\n",
       "      <td>74.247399</td>\n",
       "      <td>50.515169</td>\n",
       "      <td>23.732230</td>\n",
       "    </tr>\n",
       "    <tr>\n",
       "      <th>MATICUSDT</th>\n",
       "      <td>164.757582</td>\n",
       "      <td>144.462541</td>\n",
       "      <td>20.295042</td>\n",
       "    </tr>\n",
       "    <tr>\n",
       "      <th>TRXUSDT</th>\n",
       "      <td>71.421333</td>\n",
       "      <td>60.754017</td>\n",
       "      <td>10.667315</td>\n",
       "    </tr>\n",
       "    <tr>\n",
       "      <th>MANAUSDT</th>\n",
       "      <td>51.014335</td>\n",
       "      <td>41.091525</td>\n",
       "      <td>9.922810</td>\n",
       "    </tr>\n",
       "    <tr>\n",
       "      <th>DOTUSDT</th>\n",
       "      <td>64.400438</td>\n",
       "      <td>62.253829</td>\n",
       "      <td>2.146609</td>\n",
       "    </tr>\n",
       "    <tr>\n",
       "      <th>VETUSDT</th>\n",
       "      <td>59.747226</td>\n",
       "      <td>63.166129</td>\n",
       "      <td>-3.418903</td>\n",
       "    </tr>\n",
       "    <tr>\n",
       "      <th>ALGOUSDT</th>\n",
       "      <td>59.504515</td>\n",
       "      <td>64.275327</td>\n",
       "      <td>-4.770812</td>\n",
       "    </tr>\n",
       "    <tr>\n",
       "      <th>LINKUSDT</th>\n",
       "      <td>48.044103</td>\n",
       "      <td>72.144522</td>\n",
       "      <td>-24.100419</td>\n",
       "    </tr>\n",
       "    <tr>\n",
       "      <th>LTCUSDT</th>\n",
       "      <td>49.254642</td>\n",
       "      <td>95.261805</td>\n",
       "      <td>-46.007163</td>\n",
       "    </tr>\n",
       "    <tr>\n",
       "      <th>UNIUSDT</th>\n",
       "      <td>36.875082</td>\n",
       "      <td>112.250894</td>\n",
       "      <td>-75.375812</td>\n",
       "    </tr>\n",
       "  </tbody>\n",
       "</table>\n",
       "</div>"
      ],
      "text/plain": [
       "           Return SMA ($)  Return hold ($)   edges ($)\n",
       "AVAXUSDT       199.485788        52.948353  146.537435\n",
       "ETHUSDT        200.271041        66.782997  133.488044\n",
       "SOLUSDT        133.238019        34.569314   98.668705\n",
       "SHIBUSDT       173.066672        84.873950   88.192722\n",
       "BTCUSDT        132.718009        54.606231   78.111778\n",
       "ATOMUSDT       186.350084       112.228049   74.122035\n",
       "BNBUSDT        141.876587        91.410424   50.466162\n",
       "DOGEUSDT       153.049283       105.801148   47.248135\n",
       "ADAUSDT         74.477984        48.783938   25.694045\n",
       "FTMUSDT         74.247399        50.515169   23.732230\n",
       "MATICUSDT      164.757582       144.462541   20.295042\n",
       "TRXUSDT         71.421333        60.754017   10.667315\n",
       "MANAUSDT        51.014335        41.091525    9.922810\n",
       "DOTUSDT         64.400438        62.253829    2.146609\n",
       "VETUSDT         59.747226        63.166129   -3.418903\n",
       "ALGOUSDT        59.504515        64.275327   -4.770812\n",
       "LINKUSDT        48.044103        72.144522  -24.100419\n",
       "LTCUSDT         49.254642        95.261805  -46.007163\n",
       "UNIUSDT         36.875082       112.250894  -75.375812"
      ]
     },
     "execution_count": 9,
     "metadata": {},
     "output_type": "execute_result"
    }
   ],
   "source": [
    "backtesting.sorting()"
   ]
  },
  {
   "cell_type": "code",
   "execution_count": 10,
   "metadata": {
    "tags": []
   },
   "outputs": [
    {
     "name": "stdout",
     "output_type": "stream",
     "text": [
      "Simulation of \u001b[1mAVAXUSDT\u001b[0m runs from \u001b[1m2022-06-08 23:00:00\u001b[0m to \u001b[1m2022-11-17 19:00:00\u001b[0m\n",
      "Winrate Method: 50.00%\n",
      "\n",
      "Return Hold                : $52.95\n",
      "return from Long Positions : $118.54\n",
      "return from Short Positions: $168.29\n",
      "Return Method              : $199.49\n"
     ]
    }
   ],
   "source": [
    "backtesting.output('AVAXUSDT')"
   ]
  },
  {
   "cell_type": "code",
   "execution_count": 11,
   "metadata": {},
   "outputs": [],
   "source": [
    "backtesting.journal('AVAXUSDT')"
   ]
  }
 ],
 "metadata": {
  "kernelspec": {
   "display_name": "Python 3 (ipykernel)",
   "language": "python",
   "name": "python3"
  },
  "language_info": {
   "codemirror_mode": {
    "name": "ipython",
    "version": 3
   },
   "file_extension": ".py",
   "mimetype": "text/x-python",
   "name": "python",
   "nbconvert_exporter": "python",
   "pygments_lexer": "ipython3",
   "version": "3.9.13"
  }
 },
 "nbformat": 4,
 "nbformat_minor": 4
}
