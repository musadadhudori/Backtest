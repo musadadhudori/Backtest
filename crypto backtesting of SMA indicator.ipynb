{
 "cells": [
  {
   "cell_type": "markdown",
   "metadata": {
    "jp-MarkdownHeadingCollapsed": true,
    "tags": []
   },
   "source": [
    "### Preparation"
   ]
  },
  {
   "cell_type": "code",
   "execution_count": 13,
   "metadata": {},
   "outputs": [],
   "source": [
    "#!pip install numpy\n",
    "#!pip install pandas\n",
    "#!pip install requests\n",
    "#!pip install tqdm\n",
    "#!pip install sqlalchemy"
   ]
  },
  {
   "cell_type": "markdown",
   "metadata": {
    "jp-MarkdownHeadingCollapsed": true,
    "tags": []
   },
   "source": [
    "### Packages"
   ]
  },
  {
   "cell_type": "code",
   "execution_count": 1,
   "metadata": {
    "tags": []
   },
   "outputs": [],
   "source": [
    "import numpy as np\n",
    "import pandas as pd\n",
    "import requests\n",
    "import os\n",
    "from tqdm import tqdm\n",
    "from sqlalchemy import create_engine"
   ]
  },
  {
   "cell_type": "markdown",
   "metadata": {
    "jp-MarkdownHeadingCollapsed": true,
    "tags": []
   },
   "source": [
    "### Clear documents"
   ]
  },
  {
   "cell_type": "code",
   "execution_count": 2,
   "metadata": {
    "tags": []
   },
   "outputs": [],
   "source": [
    "if os.path.exists(\"Journal.xlsx\"):\n",
    "    os.remove(\"Journal.xlsx\")\n",
    "    \n",
    "if os.path.exists(\"Crypto.db\"):\n",
    "    os.remove(\"Crypto.db\")"
   ]
  },
  {
   "cell_type": "markdown",
   "metadata": {
    "jp-MarkdownHeadingCollapsed": true,
    "tags": []
   },
   "source": [
    "### Input"
   ]
  },
  {
   "cell_type": "code",
   "execution_count": 3,
   "metadata": {},
   "outputs": [],
   "source": [
    "coins = ('BTCUSDT', 'ETHUSDT', 'BNBUSDT', 'SOLUSDT', 'ADAUSDT', 'DOTUSDT', 'DOGEUSDT', 'AVAXUSDT', 'SHIBUSDT',\n",
    "         'MATICUSDT', 'LTCUSDT', 'UNIUSDT', 'ALGOUSDT', 'TRXUSDT', 'LINKUSDT', 'MANAUSDT', 'ATOMUSDT', 'VETUSDT', 'FTMUSDT')\n",
    "\n",
    "capital = 100 #$\n",
    "UTC = 7\n",
    "SMA = 28 #Simple Moving Average\n",
    "timeframe = '4h'\n",
    "#tradingfee = 0"
   ]
  },
  {
   "cell_type": "markdown",
   "metadata": {
    "jp-MarkdownHeadingCollapsed": true,
    "tags": []
   },
   "source": [
    "### Download data"
   ]
  },
  {
   "cell_type": "code",
   "execution_count": 4,
   "metadata": {
    "tags": []
   },
   "outputs": [],
   "source": [
    "def download_data(symbol, timeframe):\n",
    "    \n",
    "    resp = requests.get('https://api.binance.us/api/v3/klines?symbol=' + symbol + '&interval=' + timeframe + '&limit=1000')\n",
    "    frame = pd.DataFrame(resp.json())\n",
    "    frame = frame.iloc[:,:5]\n",
    "    frame.columns = ['Time', 'Open', 'High', 'Low', 'Close']\n",
    "    frame[['Open', 'High', 'Low', 'Close']] = frame[['Open', 'High', 'Low', 'Close']].astype(float)\n",
    "    frame.Time = pd.to_datetime(frame.Time, unit='ms') + pd.Timedelta(hours=UTC)\n",
    "    return frame"
   ]
  },
  {
   "cell_type": "code",
   "execution_count": 5,
   "metadata": {
    "tags": []
   },
   "outputs": [
    {
     "name": "stderr",
     "output_type": "stream",
     "text": [
      "100%|██████████| 19/19 [00:19<00:00,  1.00s/it]\n"
     ]
    }
   ],
   "source": [
    "engine = create_engine('sqlite:///Crypto.db')\n",
    "\n",
    "for coin in tqdm(coins):\n",
    "    download_data(coin, timeframe).to_sql(coin, engine, index=False)"
   ]
  },
  {
   "cell_type": "markdown",
   "metadata": {
    "tags": []
   },
   "source": [
    "### Sort coin with high return compared to hold from backtesting"
   ]
  },
  {
   "cell_type": "code",
   "execution_count": 6,
   "metadata": {
    "tags": []
   },
   "outputs": [],
   "source": [
    "def technicals(df):\n",
    "    df = df.copy()\n",
    "    df['SMA'] = df.Close.rolling(SMA).mean()\n",
    "    df.dropna(inplace=True)\n",
    "    df['change'] = df.Close.pct_change()\n",
    "        \n",
    "    df['long strategy']  = np.where(df['Close'] > df['SMA'], 1, 0)\n",
    "    df['Long positions'] = capital*(np.cumprod(df['long strategy'].shift(1)*df['change'] + 1))\n",
    "        \n",
    "    df['short strategy']  = np.where(df['Close'] > df['SMA'], 0, -1)\n",
    "    df['Short positions'] = capital*(np.cumprod(df['short strategy'].shift(1)*df['change'] + 1))\n",
    "        \n",
    "    df['Return SMA ($)'] = df['Long positions']*df['Short positions']/capital\n",
    "    df['Return hold ($)']  = capital*np.cumprod(df['change']+1)\n",
    "    \n",
    "    df.dropna(inplace=True)\n",
    "\n",
    "    return df[['Return SMA ($)', 'Return hold ($)']]"
   ]
  },
  {
   "cell_type": "code",
   "execution_count": 7,
   "metadata": {
    "tags": []
   },
   "outputs": [
    {
     "data": {
      "text/html": [
       "<div>\n",
       "<style scoped>\n",
       "    .dataframe tbody tr th:only-of-type {\n",
       "        vertical-align: middle;\n",
       "    }\n",
       "\n",
       "    .dataframe tbody tr th {\n",
       "        vertical-align: top;\n",
       "    }\n",
       "\n",
       "    .dataframe thead th {\n",
       "        text-align: right;\n",
       "    }\n",
       "</style>\n",
       "<table border=\"1\" class=\"dataframe\">\n",
       "  <thead>\n",
       "    <tr style=\"text-align: right;\">\n",
       "      <th></th>\n",
       "      <th>Return SMA ($)</th>\n",
       "      <th>Return hold ($)</th>\n",
       "      <th>edges ($)</th>\n",
       "    </tr>\n",
       "  </thead>\n",
       "  <tbody>\n",
       "    <tr>\n",
       "      <th>AVAXUSDT</th>\n",
       "      <td>186.968226</td>\n",
       "      <td>52.165276</td>\n",
       "      <td>134.802950</td>\n",
       "    </tr>\n",
       "    <tr>\n",
       "      <th>ETHUSDT</th>\n",
       "      <td>188.981994</td>\n",
       "      <td>65.990502</td>\n",
       "      <td>122.991492</td>\n",
       "    </tr>\n",
       "    <tr>\n",
       "      <th>SOLUSDT</th>\n",
       "      <td>136.070541</td>\n",
       "      <td>35.118966</td>\n",
       "      <td>100.951575</td>\n",
       "    </tr>\n",
       "    <tr>\n",
       "      <th>SHIBUSDT</th>\n",
       "      <td>169.916751</td>\n",
       "      <td>83.915441</td>\n",
       "      <td>86.001309</td>\n",
       "    </tr>\n",
       "    <tr>\n",
       "      <th>BTCUSDT</th>\n",
       "      <td>125.835090</td>\n",
       "      <td>53.482957</td>\n",
       "      <td>72.352134</td>\n",
       "    </tr>\n",
       "    <tr>\n",
       "      <th>ATOMUSDT</th>\n",
       "      <td>175.681564</td>\n",
       "      <td>113.092200</td>\n",
       "      <td>62.589364</td>\n",
       "    </tr>\n",
       "    <tr>\n",
       "      <th>DOGEUSDT</th>\n",
       "      <td>154.105637</td>\n",
       "      <td>105.057313</td>\n",
       "      <td>49.048324</td>\n",
       "    </tr>\n",
       "    <tr>\n",
       "      <th>BNBUSDT</th>\n",
       "      <td>138.617666</td>\n",
       "      <td>93.486451</td>\n",
       "      <td>45.131214</td>\n",
       "    </tr>\n",
       "    <tr>\n",
       "      <th>ADAUSDT</th>\n",
       "      <td>76.993891</td>\n",
       "      <td>52.467392</td>\n",
       "      <td>24.526499</td>\n",
       "    </tr>\n",
       "    <tr>\n",
       "      <th>FTMUSDT</th>\n",
       "      <td>73.223140</td>\n",
       "      <td>51.226388</td>\n",
       "      <td>21.996752</td>\n",
       "    </tr>\n",
       "    <tr>\n",
       "      <th>MATICUSDT</th>\n",
       "      <td>162.616345</td>\n",
       "      <td>145.454545</td>\n",
       "      <td>17.161800</td>\n",
       "    </tr>\n",
       "    <tr>\n",
       "      <th>MANAUSDT</th>\n",
       "      <td>49.535475</td>\n",
       "      <td>43.443615</td>\n",
       "      <td>6.091860</td>\n",
       "    </tr>\n",
       "    <tr>\n",
       "      <th>TRXUSDT</th>\n",
       "      <td>65.338983</td>\n",
       "      <td>61.087511</td>\n",
       "      <td>4.251472</td>\n",
       "    </tr>\n",
       "    <tr>\n",
       "      <th>DOTUSDT</th>\n",
       "      <td>65.332357</td>\n",
       "      <td>61.331901</td>\n",
       "      <td>4.000456</td>\n",
       "    </tr>\n",
       "    <tr>\n",
       "      <th>VETUSDT</th>\n",
       "      <td>58.381839</td>\n",
       "      <td>63.822845</td>\n",
       "      <td>-5.441006</td>\n",
       "    </tr>\n",
       "    <tr>\n",
       "      <th>ALGOUSDT</th>\n",
       "      <td>61.799062</td>\n",
       "      <td>67.951268</td>\n",
       "      <td>-6.152206</td>\n",
       "    </tr>\n",
       "    <tr>\n",
       "      <th>LINKUSDT</th>\n",
       "      <td>49.180737</td>\n",
       "      <td>74.074074</td>\n",
       "      <td>-24.893337</td>\n",
       "    </tr>\n",
       "    <tr>\n",
       "      <th>LTCUSDT</th>\n",
       "      <td>48.563282</td>\n",
       "      <td>90.208918</td>\n",
       "      <td>-41.645636</td>\n",
       "    </tr>\n",
       "    <tr>\n",
       "      <th>UNIUSDT</th>\n",
       "      <td>35.872839</td>\n",
       "      <td>114.112164</td>\n",
       "      <td>-78.239325</td>\n",
       "    </tr>\n",
       "  </tbody>\n",
       "</table>\n",
       "</div>"
      ],
      "text/plain": [
       "           Return SMA ($)  Return hold ($)   edges ($)\n",
       "AVAXUSDT       186.968226        52.165276  134.802950\n",
       "ETHUSDT        188.981994        65.990502  122.991492\n",
       "SOLUSDT        136.070541        35.118966  100.951575\n",
       "SHIBUSDT       169.916751        83.915441   86.001309\n",
       "BTCUSDT        125.835090        53.482957   72.352134\n",
       "ATOMUSDT       175.681564       113.092200   62.589364\n",
       "DOGEUSDT       154.105637       105.057313   49.048324\n",
       "BNBUSDT        138.617666        93.486451   45.131214\n",
       "ADAUSDT         76.993891        52.467392   24.526499\n",
       "FTMUSDT         73.223140        51.226388   21.996752\n",
       "MATICUSDT      162.616345       145.454545   17.161800\n",
       "MANAUSDT        49.535475        43.443615    6.091860\n",
       "TRXUSDT         65.338983        61.087511    4.251472\n",
       "DOTUSDT         65.332357        61.331901    4.000456\n",
       "VETUSDT         58.381839        63.822845   -5.441006\n",
       "ALGOUSDT        61.799062        67.951268   -6.152206\n",
       "LINKUSDT        49.180737        74.074074  -24.893337\n",
       "LTCUSDT         48.563282        90.208918  -41.645636\n",
       "UNIUSDT         35.872839       114.112164  -78.239325"
      ]
     },
     "execution_count": 7,
     "metadata": {},
     "output_type": "execute_result"
    }
   ],
   "source": [
    "profits = []\n",
    "journal = pd.DataFrame()\n",
    "\n",
    "for coin in coins:\n",
    "    df = pd.read_sql(coin, engine).set_index('Time')\n",
    "    ret = technicals(df)\n",
    "    journal[coin] = ret.loc[:,'Return SMA ($)']\n",
    "    profits.append(ret.iloc[-1,:])\n",
    "\n",
    "\n",
    "frame = pd.DataFrame(profits, coins)\n",
    "frame['edges ($)'] = frame['Return SMA ($)'] - frame['Return hold ($)']\n",
    "frame = frame.sort_values('edges ($)', ascending=False)\n",
    "frame"
   ]
  },
  {
   "cell_type": "markdown",
   "metadata": {
    "tags": []
   },
   "source": [
    "### Journal excel"
   ]
  },
  {
   "cell_type": "code",
   "execution_count": 8,
   "metadata": {},
   "outputs": [],
   "source": [
    "journal.to_excel('Journal.xlsx', engine='xlsxwriter') "
   ]
  }
 ],
 "metadata": {
  "kernelspec": {
   "display_name": "Python 3 (ipykernel)",
   "language": "python",
   "name": "python3"
  },
  "language_info": {
   "codemirror_mode": {
    "name": "ipython",
    "version": 3
   },
   "file_extension": ".py",
   "mimetype": "text/x-python",
   "name": "python",
   "nbconvert_exporter": "python",
   "pygments_lexer": "ipython3",
   "version": "3.9.13"
  }
 },
 "nbformat": 4,
 "nbformat_minor": 4
}
