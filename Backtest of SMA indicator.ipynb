{
 "cells": [
  {
   "cell_type": "markdown",
   "metadata": {
    "tags": []
   },
   "source": [
    "### Packages"
   ]
  },
  {
   "cell_type": "code",
   "execution_count": 1,
   "metadata": {
    "tags": []
   },
   "outputs": [],
   "source": [
    "import numpy as np\n",
    "import pandas as pd\n",
    "import requests\n",
    "import os\n",
    "from tqdm import tqdm\n",
    "from sqlalchemy import create_engine"
   ]
  },
  {
   "cell_type": "markdown",
   "metadata": {
    "tags": []
   },
   "source": [
    "### Clear documents"
   ]
  },
  {
   "cell_type": "code",
   "execution_count": 2,
   "metadata": {
    "tags": []
   },
   "outputs": [],
   "source": [
    "if os.path.exists(\"Journal.xlsx\"):\n",
    "    os.remove(\"Journal.xlsx\")\n",
    "    \n",
    "if os.path.exists(\"Crypto.db\"):\n",
    "    os.remove(\"Crypto.db\")"
   ]
  },
  {
   "cell_type": "markdown",
   "metadata": {
    "tags": []
   },
   "source": [
    "### Input"
   ]
  },
  {
   "cell_type": "code",
   "execution_count": 3,
   "metadata": {},
   "outputs": [],
   "source": [
    "coins = ('BTCUSDT', 'ETHUSDT', 'BNBUSDT', 'SOLUSDT', 'ADAUSDT', 'DOTUSDT', 'DOGEUSDT', 'AVAXUSDT', 'SHIBUSDT',\n",
    "         'MATICUSDT', 'LTCUSDT', 'UNIUSDT', 'ALGOUSDT', 'TRXUSDT', 'LINKUSDT', 'MANAUSDT', 'ATOMUSDT', 'VETUSDT', 'FTMUSDT')\n",
    "\n",
    "capital = 100\n",
    "UTC = 7\n",
    "SMA = 28 #Simple Moving Average\n",
    "timeframe = '4h'\n",
    "tradingfee = 0\n",
    "#backtesting = Backtest_SMA(capital, simulation_time, pair, location, SMA)"
   ]
  },
  {
   "cell_type": "markdown",
   "metadata": {
    "tags": []
   },
   "source": [
    "### Download data"
   ]
  },
  {
   "cell_type": "code",
   "execution_count": 4,
   "metadata": {
    "tags": []
   },
   "outputs": [],
   "source": [
    "def download_data(symbol, timeframe):\n",
    "    \n",
    "    resp = requests.get('https://api.binance.us/api/v3/klines?symbol=' + symbol + '&interval=' + timeframe + '&limit=1000')\n",
    "    frame = pd.DataFrame(resp.json())\n",
    "    frame = frame.iloc[:,:5]\n",
    "    frame.columns = ['Time', 'Open', 'High', 'Low', 'Close']\n",
    "    frame[['Open', 'High', 'Low', 'Close']] = frame[['Open', 'High', 'Low', 'Close']].astype(float)\n",
    "    frame.Time = pd.to_datetime(frame.Time, unit='ms') + pd.Timedelta(hours=UTC)\n",
    "    return frame"
   ]
  },
  {
   "cell_type": "code",
   "execution_count": 5,
   "metadata": {
    "jupyter": {
     "source_hidden": true
    },
    "tags": []
   },
   "outputs": [
    {
     "name": "stderr",
     "output_type": "stream",
     "text": [
      "100%|██████████| 19/19 [00:22<00:00,  1.17s/it]\n"
     ]
    }
   ],
   "source": [
    "engine = create_engine('sqlite:///Crypto.db')\n",
    "\n",
    "for coin in tqdm(coins):\n",
    "    download_data(coin, timeframe).to_sql(coin, engine, index=False)"
   ]
  },
  {
   "cell_type": "markdown",
   "metadata": {
    "tags": []
   },
   "source": [
    "### Sort coin with high return from backtest"
   ]
  },
  {
   "cell_type": "code",
   "execution_count": 6,
   "metadata": {
    "jupyter": {
     "source_hidden": true
    },
    "tags": []
   },
   "outputs": [],
   "source": [
    "def technicals(df):\n",
    "    df = df.copy()\n",
    "    df['SMA'] = df.Close.rolling(SMA).mean()\n",
    "    df.dropna(inplace=True)\n",
    "    df['change'] = df.Close.pct_change()\n",
    "        \n",
    "    df['long strategy']  = np.where(df['Close'] > df['SMA'], 1, 0)\n",
    "    df['Long positions'] = capital*(np.cumprod(df['long strategy'].shift(1)*df['change'] + 1))\n",
    "        \n",
    "    df['short strategy']  = np.where(df['Close'] > df['SMA'], 0, -1)\n",
    "    df['Short positions'] = capital*(np.cumprod(df['short strategy'].shift(1)*df['change'] + 1))\n",
    "        \n",
    "    df['Return total'] = df['Long positions']*df['Short positions']/capital\n",
    "    df['Return hold']  = capital*np.cumprod(df['change']+1)\n",
    "    \n",
    "    df.dropna(inplace=True)\n",
    "\n",
    "    return df[['Return total', 'Return hold']]"
   ]
  },
  {
   "cell_type": "code",
   "execution_count": 7,
   "metadata": {
    "jupyter": {
     "source_hidden": true
    },
    "tags": []
   },
   "outputs": [
    {
     "data": {
      "text/html": [
       "<div>\n",
       "<style scoped>\n",
       "    .dataframe tbody tr th:only-of-type {\n",
       "        vertical-align: middle;\n",
       "    }\n",
       "\n",
       "    .dataframe tbody tr th {\n",
       "        vertical-align: top;\n",
       "    }\n",
       "\n",
       "    .dataframe thead th {\n",
       "        text-align: right;\n",
       "    }\n",
       "</style>\n",
       "<table border=\"1\" class=\"dataframe\">\n",
       "  <thead>\n",
       "    <tr style=\"text-align: right;\">\n",
       "      <th></th>\n",
       "      <th>Return total</th>\n",
       "      <th>Return hold</th>\n",
       "      <th>edges</th>\n",
       "    </tr>\n",
       "  </thead>\n",
       "  <tbody>\n",
       "    <tr>\n",
       "      <th>AVAXUSDT</th>\n",
       "      <td>155.071867</td>\n",
       "      <td>72.570533</td>\n",
       "      <td>82.501334</td>\n",
       "    </tr>\n",
       "    <tr>\n",
       "      <th>ETHUSDT</th>\n",
       "      <td>151.194777</td>\n",
       "      <td>80.213809</td>\n",
       "      <td>70.980967</td>\n",
       "    </tr>\n",
       "    <tr>\n",
       "      <th>SHIBUSDT</th>\n",
       "      <td>145.605701</td>\n",
       "      <td>103.580786</td>\n",
       "      <td>42.024915</td>\n",
       "    </tr>\n",
       "    <tr>\n",
       "      <th>BTCUSDT</th>\n",
       "      <td>91.369736</td>\n",
       "      <td>68.343063</td>\n",
       "      <td>23.026673</td>\n",
       "    </tr>\n",
       "    <tr>\n",
       "      <th>SOLUSDT</th>\n",
       "      <td>75.786166</td>\n",
       "      <td>68.447827</td>\n",
       "      <td>7.338339</td>\n",
       "    </tr>\n",
       "    <tr>\n",
       "      <th>BNBUSDT</th>\n",
       "      <td>109.272790</td>\n",
       "      <td>105.547017</td>\n",
       "      <td>3.725773</td>\n",
       "    </tr>\n",
       "    <tr>\n",
       "      <th>MATICUSDT</th>\n",
       "      <td>178.905995</td>\n",
       "      <td>175.748031</td>\n",
       "      <td>3.157964</td>\n",
       "    </tr>\n",
       "    <tr>\n",
       "      <th>ADAUSDT</th>\n",
       "      <td>81.404096</td>\n",
       "      <td>80.475766</td>\n",
       "      <td>0.928331</td>\n",
       "    </tr>\n",
       "    <tr>\n",
       "      <th>FTMUSDT</th>\n",
       "      <td>63.069046</td>\n",
       "      <td>71.401769</td>\n",
       "      <td>-8.332723</td>\n",
       "    </tr>\n",
       "    <tr>\n",
       "      <th>DOTUSDT</th>\n",
       "      <td>58.577051</td>\n",
       "      <td>67.761807</td>\n",
       "      <td>-9.184756</td>\n",
       "    </tr>\n",
       "    <tr>\n",
       "      <th>DOGEUSDT</th>\n",
       "      <td>138.045049</td>\n",
       "      <td>147.928225</td>\n",
       "      <td>-9.883176</td>\n",
       "    </tr>\n",
       "    <tr>\n",
       "      <th>ATOMUSDT</th>\n",
       "      <td>131.568474</td>\n",
       "      <td>141.620139</td>\n",
       "      <td>-10.051665</td>\n",
       "    </tr>\n",
       "    <tr>\n",
       "      <th>VETUSDT</th>\n",
       "      <td>56.797382</td>\n",
       "      <td>78.806578</td>\n",
       "      <td>-22.009196</td>\n",
       "    </tr>\n",
       "    <tr>\n",
       "      <th>ALGOUSDT</th>\n",
       "      <td>67.134123</td>\n",
       "      <td>95.613364</td>\n",
       "      <td>-28.479241</td>\n",
       "    </tr>\n",
       "    <tr>\n",
       "      <th>TRXUSDT</th>\n",
       "      <td>45.870709</td>\n",
       "      <td>75.295696</td>\n",
       "      <td>-29.424987</td>\n",
       "    </tr>\n",
       "    <tr>\n",
       "      <th>MANAUSDT</th>\n",
       "      <td>28.892972</td>\n",
       "      <td>63.863922</td>\n",
       "      <td>-34.970950</td>\n",
       "    </tr>\n",
       "    <tr>\n",
       "      <th>LTCUSDT</th>\n",
       "      <td>45.770116</td>\n",
       "      <td>94.437745</td>\n",
       "      <td>-48.667629</td>\n",
       "    </tr>\n",
       "    <tr>\n",
       "      <th>LINKUSDT</th>\n",
       "      <td>64.371675</td>\n",
       "      <td>122.173275</td>\n",
       "      <td>-57.801600</td>\n",
       "    </tr>\n",
       "    <tr>\n",
       "      <th>UNIUSDT</th>\n",
       "      <td>38.922142</td>\n",
       "      <td>129.751225</td>\n",
       "      <td>-90.829083</td>\n",
       "    </tr>\n",
       "  </tbody>\n",
       "</table>\n",
       "</div>"
      ],
      "text/plain": [
       "           Return total  Return hold      edges\n",
       "AVAXUSDT     155.071867    72.570533  82.501334\n",
       "ETHUSDT      151.194777    80.213809  70.980967\n",
       "SHIBUSDT     145.605701   103.580786  42.024915\n",
       "BTCUSDT       91.369736    68.343063  23.026673\n",
       "SOLUSDT       75.786166    68.447827   7.338339\n",
       "BNBUSDT      109.272790   105.547017   3.725773\n",
       "MATICUSDT    178.905995   175.748031   3.157964\n",
       "ADAUSDT       81.404096    80.475766   0.928331\n",
       "FTMUSDT       63.069046    71.401769  -8.332723\n",
       "DOTUSDT       58.577051    67.761807  -9.184756\n",
       "DOGEUSDT     138.045049   147.928225  -9.883176\n",
       "ATOMUSDT     131.568474   141.620139 -10.051665\n",
       "VETUSDT       56.797382    78.806578 -22.009196\n",
       "ALGOUSDT      67.134123    95.613364 -28.479241\n",
       "TRXUSDT       45.870709    75.295696 -29.424987\n",
       "MANAUSDT      28.892972    63.863922 -34.970950\n",
       "LTCUSDT       45.770116    94.437745 -48.667629\n",
       "LINKUSDT      64.371675   122.173275 -57.801600\n",
       "UNIUSDT       38.922142   129.751225 -90.829083"
      ]
     },
     "execution_count": 7,
     "metadata": {},
     "output_type": "execute_result"
    }
   ],
   "source": [
    "profits = []\n",
    "journal = pd.DataFrame()\n",
    "\n",
    "for coin in coins:\n",
    "    df = pd.read_sql(coin, engine).set_index('Time')\n",
    "    ret = technicals(df)\n",
    "    journal[coin] = ret.loc[:,'Return total']\n",
    "    profits.append(ret.iloc[-1,:])\n",
    "\n",
    "\n",
    "frame = pd.DataFrame(profits, coins)\n",
    "frame['edges'] = frame['Return total'] - frame['Return hold']\n",
    "frame = frame.sort_values('edges', ascending=False)\n",
    "frame"
   ]
  },
  {
   "cell_type": "markdown",
   "metadata": {
    "tags": []
   },
   "source": [
    "### Journal excel"
   ]
  },
  {
   "cell_type": "code",
   "execution_count": 8,
   "metadata": {},
   "outputs": [],
   "source": [
    "journal.to_excel('Journal.xlsx', engine='xlsxwriter') "
   ]
  }
 ],
 "metadata": {
  "kernelspec": {
   "display_name": "Python 3 (ipykernel)",
   "language": "python",
   "name": "python3"
  },
  "language_info": {
   "codemirror_mode": {
    "name": "ipython",
    "version": 3
   },
   "file_extension": ".py",
   "mimetype": "text/x-python",
   "name": "python",
   "nbconvert_exporter": "python",
   "pygments_lexer": "ipython3",
   "version": "3.9.13"
  }
 },
 "nbformat": 4,
 "nbformat_minor": 4
}
