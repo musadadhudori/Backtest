{
 "cells": [
  {
   "cell_type": "markdown",
   "metadata": {
    "jp-MarkdownHeadingCollapsed": true,
    "tags": []
   },
   "source": [
    "### Preparation"
   ]
  },
  {
   "cell_type": "code",
   "execution_count": 1,
   "metadata": {},
   "outputs": [],
   "source": [
    "#!pip install numpy\n",
    "#!pip install pandas\n",
    "#!pip install requests\n",
    "#!pip install tqdm\n",
    "#!pip install sqlalchemy"
   ]
  },
  {
   "cell_type": "markdown",
   "metadata": {
    "jp-MarkdownHeadingCollapsed": true,
    "tags": []
   },
   "source": [
    "### Packages"
   ]
  },
  {
   "cell_type": "code",
   "execution_count": 2,
   "metadata": {
    "tags": []
   },
   "outputs": [],
   "source": [
    "import numpy as np\n",
    "import pandas as pd\n",
    "import requests\n",
    "import os\n",
    "from tqdm import tqdm\n",
    "from sqlalchemy import create_engine"
   ]
  },
  {
   "cell_type": "markdown",
   "metadata": {
    "tags": []
   },
   "source": [
    "### Input"
   ]
  },
  {
   "cell_type": "code",
   "execution_count": 3,
   "metadata": {},
   "outputs": [],
   "source": [
    "pairs    = ('EURUSD', 'XAUUSD', 'JPYUSD', 'CNYUSD', 'GBPUSD') #max 5 pairs for free API key\n",
    "\n",
    "key       = '' #put your API key from https://polygon.io/dashboard/api-keys\n",
    "capital   = 100 #$\n",
    "UTC       = 7\n",
    "SMA       = 28 #Simple Moving Average\n",
    "timeframe = '1/minute'\n",
    "\n",
    "#tradingfee = 0"
   ]
  },
  {
   "cell_type": "markdown",
   "metadata": {
    "jp-MarkdownHeadingCollapsed": true,
    "tags": []
   },
   "source": [
    "### Download data"
   ]
  },
  {
   "cell_type": "code",
   "execution_count": 4,
   "metadata": {
    "tags": []
   },
   "outputs": [],
   "source": [
    "def download_data(symbol, timeframe, time):\n",
    "    url = 'https://api.polygon.io/v2/aggs/ticker/C:' +pair+ '/range/' +timeframe+ '/' +time+ '?adjusted=true&sort=asc&limit=100000&apiKey=' +key\n",
    "    resp = requests.get(url)\n",
    "    frame = pd.DataFrame(resp.json()['results'])\n",
    "    frame = frame.iloc[:, 2:7]\n",
    "    frame.columns = ['Open','Close','High','Low','Time']\n",
    "    frame.Time = pd.to_datetime(frame['Time'], unit = 'ms')\n",
    "    frame[['Open', 'High', 'Low', 'Close']] = frame[['Open', 'High', 'Low', 'Close']].astype(float)\n",
    "    \n",
    "    #frame.index = pd.to_datetime(frame.index) + pd.Timedelta(hours=UTC)\n",
    "    \n",
    "    return frame"
   ]
  },
  {
   "cell_type": "code",
   "execution_count": 5,
   "metadata": {
    "tags": []
   },
   "outputs": [
    {
     "name": "stderr",
     "output_type": "stream",
     "text": [
      "100%|██████████| 5/5 [00:39<00:00,  7.87s/it]\n"
     ]
    }
   ],
   "source": [
    "if os.path.exists(\"Pair.db\"):\n",
    "    os.remove(\"Pair.db\")\n",
    "    \n",
    "engine = create_engine('sqlite:///Pair.db')\n",
    "\n",
    "indTime  = timeframe.index('/')\n",
    "dictTime = {'week':0, 'day':0 ,'hour':0, 'minute':0}\n",
    "dictTime[timeframe[indTime+1:]] += int(timeframe[:indTime])*50000\n",
    "\n",
    "end = pd.to_datetime('today').date()\n",
    "start = end - pd.Timedelta(weeks=dictTime['week'], days=dictTime['day'], hours=dictTime['hour'], minutes=dictTime['minute'])\n",
    "time = str(start)+'/'+str(end)\n",
    "\n",
    "for pair in tqdm(pairs):\n",
    "    download_data(pair, timeframe, time).to_sql(pair, engine, index=False)"
   ]
  },
  {
   "cell_type": "markdown",
   "metadata": {
    "jp-MarkdownHeadingCollapsed": true,
    "tags": []
   },
   "source": [
    "### Main Program"
   ]
  },
  {
   "cell_type": "code",
   "execution_count": 6,
   "metadata": {
    "tags": []
   },
   "outputs": [],
   "source": [
    "class Backtest_SMA:\n",
    "    \n",
    "    def __init__(self, capital, SMA, pairs): \n",
    "        self.capital  = capital\n",
    "        self.SMA      = SMA\n",
    "        self.pairs   = pairs\n",
    "            \n",
    "    def method(self, pair):\n",
    "        data = pd.read_sql(pair, engine).set_index('Time') \n",
    "        \n",
    "        data['sma'] = data.Close.rolling(self.SMA).mean()\n",
    "        data.dropna(inplace=True)\n",
    "    \n",
    "        data['Type'] = np.where(data['Close'].shift(1) > data['sma'].shift(1), 'long', 'short')\n",
    "        \n",
    "        data['change'] = data.Close.pct_change()\n",
    "        \n",
    "    \n",
    "        data['long strategy']  = np.where(data['Close'] > data['sma'], 1, 0)\n",
    "        data['Long positions'] = self.capital*(np.cumprod(data['long strategy'].shift(1)*data['change'] + 1))\n",
    "        \n",
    "        data['short strategy']  = np.where(data['Close'] > data['sma'], 0, -1)\n",
    "        data['Short positions'] = self.capital*(np.cumprod(data['short strategy'].shift(1)*data['change'] + 1))\n",
    "        \n",
    "        data['Return SMA'] = data['Long positions']*data['Short positions']/self.capital\n",
    "        data['Return hold']  = self.capital*np.cumprod(data['change']+1)\n",
    "    \n",
    "        data['win pos'] = np.where(data['Close']> data['sma'], 1, -1)\n",
    "        data['win']     = np.cumsum(np.where(data['win pos'].shift(1)*data['change'] > 0, 1, 0))\n",
    "        \n",
    "        data.dropna(inplace=True)\n",
    "        data['Winrate'] = data['win']/np.arange(1, len(data) + 1)\n",
    "        \n",
    "        return data.loc[:, ['Winrate', 'Type', 'Long positions', 'Short positions', 'Return SMA', 'Return hold']]\n",
    "    \n",
    "    \n",
    "    def sorting(self):\n",
    "        profits = []\n",
    "        \n",
    "        for pair in self.pairs:\n",
    "            df = self.method(pair)\n",
    "            \n",
    "            ret = df[['Return SMA', 'Return hold']]\n",
    "            ret.columns = ['Return SMA ($)', 'Return hold ($)']\n",
    "            \n",
    "            profits.append(ret.iloc[-1,:])\n",
    "\n",
    "        frame = pd.DataFrame(profits, self.pairs)\n",
    "        frame['edges ($)'] = frame['Return SMA ($)'] - frame['Return hold ($)']\n",
    "        frame = frame.sort_values('edges ($)', ascending=False)\n",
    "        return frame\n",
    "\n",
    "    \n",
    "    def output(self, pair):\n",
    "        data = self.method(pair)\n",
    "        \n",
    "        print('Simulation of ' + '\\033[1m' + str(pair) + '\\033[0m' + ' runs from ' + '\\033[1m' + str(data.index[0]) + '\\033[0m' + ' to ' + '\\033[1m' + str(data.index[-1]) + '\\033[0m')\n",
    "        print('Winrate Method: %5.2f' %(100*data['Winrate'][-1]) + '%\\n')\n",
    "\n",
    "        print('Return Hold                : $%5.2f' %(data['Return hold'][-1]))\n",
    "        print('return from Long Positions : $%5.2f' %(data['Long positions'][-1]))\n",
    "        print('return from Short Positions: $%5.2f' %(data['Short positions'][-1]))\n",
    "        print('Return Method              : $%5.2f' %(data['Return SMA'][-1]))\n",
    "\n",
    "        \n",
    "    def journal(self, pair):\n",
    "        if os.path.exists('Journal ' + pair + '.xlsx'):\n",
    "            os.remove('Journal ' + pair + '.xlsx')\n",
    "        \n",
    "        self.method(pair).to_excel('Journal ' + pair + '.xlsx', engine='xlsxwriter') "
   ]
  },
  {
   "cell_type": "code",
   "execution_count": 7,
   "metadata": {},
   "outputs": [],
   "source": [
    "backtesting = Backtest_SMA(capital, SMA, pairs)"
   ]
  },
  {
   "cell_type": "markdown",
   "metadata": {
    "tags": []
   },
   "source": [
    "### Output"
   ]
  },
  {
   "cell_type": "code",
   "execution_count": 12,
   "metadata": {},
   "outputs": [],
   "source": [
    "#backtesting.method('GBPUSD')"
   ]
  },
  {
   "cell_type": "code",
   "execution_count": 9,
   "metadata": {},
   "outputs": [
    {
     "data": {
      "text/html": [
       "<div>\n",
       "<style scoped>\n",
       "    .dataframe tbody tr th:only-of-type {\n",
       "        vertical-align: middle;\n",
       "    }\n",
       "\n",
       "    .dataframe tbody tr th {\n",
       "        vertical-align: top;\n",
       "    }\n",
       "\n",
       "    .dataframe thead th {\n",
       "        text-align: right;\n",
       "    }\n",
       "</style>\n",
       "<table border=\"1\" class=\"dataframe\">\n",
       "  <thead>\n",
       "    <tr style=\"text-align: right;\">\n",
       "      <th></th>\n",
       "      <th>Return SMA ($)</th>\n",
       "      <th>Return hold ($)</th>\n",
       "      <th>edges ($)</th>\n",
       "    </tr>\n",
       "  </thead>\n",
       "  <tbody>\n",
       "    <tr>\n",
       "      <th>CNYUSD</th>\n",
       "      <td>86.726815</td>\n",
       "      <td>101.026570</td>\n",
       "      <td>-14.299754</td>\n",
       "    </tr>\n",
       "    <tr>\n",
       "      <th>EURUSD</th>\n",
       "      <td>76.144920</td>\n",
       "      <td>106.431364</td>\n",
       "      <td>-30.286444</td>\n",
       "    </tr>\n",
       "    <tr>\n",
       "      <th>GBPUSD</th>\n",
       "      <td>74.823411</td>\n",
       "      <td>105.828862</td>\n",
       "      <td>-31.005451</td>\n",
       "    </tr>\n",
       "    <tr>\n",
       "      <th>JPYUSD</th>\n",
       "      <td>40.594415</td>\n",
       "      <td>105.878017</td>\n",
       "      <td>-65.283603</td>\n",
       "    </tr>\n",
       "    <tr>\n",
       "      <th>XAUUSD</th>\n",
       "      <td>16.278608</td>\n",
       "      <td>106.454339</td>\n",
       "      <td>-90.175732</td>\n",
       "    </tr>\n",
       "  </tbody>\n",
       "</table>\n",
       "</div>"
      ],
      "text/plain": [
       "        Return SMA ($)  Return hold ($)  edges ($)\n",
       "CNYUSD       86.726815       101.026570 -14.299754\n",
       "EURUSD       76.144920       106.431364 -30.286444\n",
       "GBPUSD       74.823411       105.828862 -31.005451\n",
       "JPYUSD       40.594415       105.878017 -65.283603\n",
       "XAUUSD       16.278608       106.454339 -90.175732"
      ]
     },
     "execution_count": 9,
     "metadata": {},
     "output_type": "execute_result"
    }
   ],
   "source": [
    "backtesting.sorting()"
   ]
  },
  {
   "cell_type": "code",
   "execution_count": 10,
   "metadata": {
    "tags": []
   },
   "outputs": [
    {
     "name": "stdout",
     "output_type": "stream",
     "text": [
      "Simulation of \u001b[1mGBPUSD\u001b[0m runs from \u001b[1m2022-10-16 22:05:00\u001b[0m to \u001b[1m2022-11-18 22:01:00\u001b[0m\n",
      "Winrate Method: 46.62%\n",
      "\n",
      "Return Hold                : $105.83\n",
      "return from Long Positions : $89.06\n",
      "return from Short Positions: $84.02\n",
      "Return Method              : $74.82\n"
     ]
    }
   ],
   "source": [
    "backtesting.output('GBPUSD')"
   ]
  },
  {
   "cell_type": "code",
   "execution_count": 11,
   "metadata": {},
   "outputs": [],
   "source": [
    "backtesting.journal('GBPUSD')"
   ]
  }
 ],
 "metadata": {
  "kernelspec": {
   "display_name": "Python 3 (ipykernel)",
   "language": "python",
   "name": "python3"
  },
  "language_info": {
   "codemirror_mode": {
    "name": "ipython",
    "version": 3
   },
   "file_extension": ".py",
   "mimetype": "text/x-python",
   "name": "python",
   "nbconvert_exporter": "python",
   "pygments_lexer": "ipython3",
   "version": "3.9.13"
  }
 },
 "nbformat": 4,
 "nbformat_minor": 4
}
