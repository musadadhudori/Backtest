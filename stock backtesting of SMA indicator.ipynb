{
 "cells": [
  {
   "cell_type": "markdown",
   "metadata": {
    "jp-MarkdownHeadingCollapsed": true,
    "tags": []
   },
   "source": [
    "### Preparation"
   ]
  },
  {
   "cell_type": "code",
   "execution_count": 1,
   "metadata": {},
   "outputs": [],
   "source": [
    "#!pip install numpy\n",
    "#!pip install pandas\n",
    "#!pip install requests\n",
    "#!pip install tqdm\n",
    "#!pip install sqlalchemy"
   ]
  },
  {
   "cell_type": "markdown",
   "metadata": {
    "jp-MarkdownHeadingCollapsed": true,
    "tags": []
   },
   "source": [
    "### Packages"
   ]
  },
  {
   "cell_type": "code",
   "execution_count": 2,
   "metadata": {
    "tags": []
   },
   "outputs": [],
   "source": [
    "import numpy as np\n",
    "import pandas as pd\n",
    "import requests\n",
    "import os\n",
    "from tqdm import tqdm\n",
    "from sqlalchemy import create_engine"
   ]
  },
  {
   "cell_type": "markdown",
   "metadata": {
    "jp-MarkdownHeadingCollapsed": true,
    "tags": []
   },
   "source": [
    "### Input"
   ]
  },
  {
   "cell_type": "code",
   "execution_count": 3,
   "metadata": {},
   "outputs": [],
   "source": [
    "stocks    = ('AAPL', 'IBM', 'BABA', 'AMZN', 'META') #max 5 stocks for free API key\n",
    "\n",
    "key       = '' #put your API key from https://www.alphavantage.co/support/#api-key\n",
    "capital   = 100 #$\n",
    "UTC       = 7\n",
    "SMA       = 28 #Simple Moving Average\n",
    "timeframe = '60min'\n",
    "#tradingfee = 0"
   ]
  },
  {
   "cell_type": "markdown",
   "metadata": {
    "jp-MarkdownHeadingCollapsed": true,
    "tags": []
   },
   "source": [
    "### Download data"
   ]
  },
  {
   "cell_type": "code",
   "execution_count": 4,
   "metadata": {
    "tags": []
   },
   "outputs": [],
   "source": [
    "def download_data(symbol, timeframe):\n",
    "    url = 'https://www.alphavantage.co/query?function=TIME_SERIES_INTRADAY&symbol=' + symbol + '&interval=' + timeframe + '&outputsize=full&apikey=' + key\n",
    "    \n",
    "    resp = requests.get('https://www.alphavantage.co/query?function=TIME_SERIES_INTRADAY&symbol=' + symbol + '&interval=' + timeframe + '&outputsize=full&apikey=' + key)\n",
    "    frame = pd.DataFrame(resp.json()['Time Series (' + timeframe + ')']).T.loc[::-1]\n",
    "    frame.columns = ['Open', 'High', 'Low','Close','Volume']\n",
    "    frame[['Open', 'High', 'Low', 'Close']] = frame[['Open', 'High', 'Low', 'Close']].astype(float)\n",
    "    frame.index = pd.to_datetime(frame.index) + pd.Timedelta(hours=UTC)\n",
    "    frame = frame.reset_index().rename(columns={'index': 'Time'})\n",
    "    \n",
    "    return frame"
   ]
  },
  {
   "cell_type": "code",
   "execution_count": 5,
   "metadata": {
    "tags": []
   },
   "outputs": [
    {
     "name": "stderr",
     "output_type": "stream",
     "text": [
      "100%|██████████| 5/5 [00:06<00:00,  1.21s/it]\n"
     ]
    }
   ],
   "source": [
    "if os.path.exists(\"Stock.db\"):\n",
    "    os.remove(\"Stock.db\")\n",
    "    \n",
    "engine = create_engine('sqlite:///Stock.db')\n",
    "\n",
    "for stock in tqdm(stocks):\n",
    "    download_data(stock, timeframe).to_sql(stock, engine, index=False)"
   ]
  },
  {
   "cell_type": "markdown",
   "metadata": {
    "jp-MarkdownHeadingCollapsed": true,
    "tags": []
   },
   "source": [
    "### Main Program"
   ]
  },
  {
   "cell_type": "code",
   "execution_count": 6,
   "metadata": {
    "tags": []
   },
   "outputs": [],
   "source": [
    "class Backtest_SMA:\n",
    "    \n",
    "    def __init__(self, capital, SMA, stocks): \n",
    "        self.capital  = capital\n",
    "        self.SMA      = SMA\n",
    "        self.stocks   = stocks\n",
    "            \n",
    "    def method(self, stock):\n",
    "        data = pd.read_sql(stock, engine).set_index('Time') \n",
    "        \n",
    "        data['sma'] = data.Close.rolling(self.SMA).mean()\n",
    "        data.dropna(inplace=True)\n",
    "    \n",
    "        data['Type'] = np.where(data['Close'].shift(1) > data['sma'].shift(1), 'long', 'short')\n",
    "        \n",
    "        data['change'] = data.Close.pct_change()\n",
    "        \n",
    "    \n",
    "        data['long strategy']  = np.where(data['Close'] > data['sma'], 1, 0)\n",
    "        data['Long positions'] = self.capital*(np.cumprod(data['long strategy'].shift(1)*data['change'] + 1))\n",
    "        \n",
    "        data['short strategy']  = np.where(data['Close'] > data['sma'], 0, -1)\n",
    "        data['Short positions'] = self.capital*(np.cumprod(data['short strategy'].shift(1)*data['change'] + 1))\n",
    "        \n",
    "        data['Return SMA'] = data['Long positions']*data['Short positions']/self.capital\n",
    "        data['Return hold']  = self.capital*np.cumprod(data['change']+1)\n",
    "    \n",
    "        data['win pos'] = np.where(data['Close']> data['sma'], 1, -1)\n",
    "        data['win']     = np.cumsum(np.where(data['win pos'].shift(1)*data['change'] > 0, 1, 0))\n",
    "        \n",
    "        data.dropna(inplace=True)\n",
    "        data['Winrate'] = data['win']/np.arange(1, len(data) + 1)\n",
    "        \n",
    "        return data.loc[:, ['Winrate', 'Type', 'Long positions', 'Short positions', 'Return SMA', 'Return hold']]\n",
    "    \n",
    "    \n",
    "    def sorting(self):\n",
    "        profits = []\n",
    "        \n",
    "        for stock in self.stocks:\n",
    "            df = self.method(stock)\n",
    "            \n",
    "            ret = df[['Return SMA', 'Return hold']]\n",
    "            ret.columns = ['Return SMA ($)', 'Return hold ($)']\n",
    "            \n",
    "            profits.append(ret.iloc[-1,:])\n",
    "\n",
    "        frame = pd.DataFrame(profits, self.stocks)\n",
    "        frame['edges ($)'] = frame['Return SMA ($)'] - frame['Return hold ($)']\n",
    "        frame = frame.sort_values('edges ($)', ascending=False)\n",
    "        return frame\n",
    "\n",
    "    \n",
    "    def output(self, stock):\n",
    "        data = self.method(stock)\n",
    "        \n",
    "        print('Simulation of ' + '\\033[1m' + str(stock) + '\\033[0m' + ' runs from ' + '\\033[1m' + str(data.index[0]) + '\\033[0m' + ' to ' + '\\033[1m' + str(data.index[-1]) + '\\033[0m')\n",
    "        print('Winrate Method: %5.2f' %(100*data['Winrate'][-1]) + '%\\n')\n",
    "\n",
    "        print('Return Hold                : $%5.2f' %(data['Return hold'][-1]))\n",
    "        print('return from Long Positions : $%5.2f' %(data['Long positions'][-1]))\n",
    "        print('return from Short Positions: $%5.2f' %(data['Short positions'][-1]))\n",
    "        print('Return Method              : $%5.2f' %(data['Return SMA'][-1]))\n",
    "\n",
    "        \n",
    "    def journal(self, stock):\n",
    "        if os.path.exists('Journal ' + stock + '.xlsx'):\n",
    "            os.remove('Journal ' + stock + '.xlsx')\n",
    "        \n",
    "        self.method(stock).to_excel('Journal ' + stock + '.xlsx', engine='xlsxwriter') "
   ]
  },
  {
   "cell_type": "code",
   "execution_count": 7,
   "metadata": {},
   "outputs": [],
   "source": [
    "backtesting = Backtest_SMA(capital, SMA, stocks)"
   ]
  },
  {
   "cell_type": "markdown",
   "metadata": {
    "tags": []
   },
   "source": [
    "### Output"
   ]
  },
  {
   "cell_type": "code",
   "execution_count": 8,
   "metadata": {},
   "outputs": [],
   "source": [
    "#backtesting.method('META')"
   ]
  },
  {
   "cell_type": "code",
   "execution_count": 9,
   "metadata": {},
   "outputs": [
    {
     "data": {
      "text/html": [
       "<div>\n",
       "<style scoped>\n",
       "    .dataframe tbody tr th:only-of-type {\n",
       "        vertical-align: middle;\n",
       "    }\n",
       "\n",
       "    .dataframe tbody tr th {\n",
       "        vertical-align: top;\n",
       "    }\n",
       "\n",
       "    .dataframe thead th {\n",
       "        text-align: right;\n",
       "    }\n",
       "</style>\n",
       "<table border=\"1\" class=\"dataframe\">\n",
       "  <thead>\n",
       "    <tr style=\"text-align: right;\">\n",
       "      <th></th>\n",
       "      <th>Return SMA ($)</th>\n",
       "      <th>Return hold ($)</th>\n",
       "      <th>edges ($)</th>\n",
       "    </tr>\n",
       "  </thead>\n",
       "  <tbody>\n",
       "    <tr>\n",
       "      <th>META</th>\n",
       "      <td>118.804826</td>\n",
       "      <td>79.319280</td>\n",
       "      <td>39.485546</td>\n",
       "    </tr>\n",
       "    <tr>\n",
       "      <th>AMZN</th>\n",
       "      <td>89.414606</td>\n",
       "      <td>83.209687</td>\n",
       "      <td>6.204919</td>\n",
       "    </tr>\n",
       "    <tr>\n",
       "      <th>AAPL</th>\n",
       "      <td>83.332708</td>\n",
       "      <td>97.673546</td>\n",
       "      <td>-14.340838</td>\n",
       "    </tr>\n",
       "    <tr>\n",
       "      <th>IBM</th>\n",
       "      <td>95.944877</td>\n",
       "      <td>118.281981</td>\n",
       "      <td>-22.337105</td>\n",
       "    </tr>\n",
       "    <tr>\n",
       "      <th>BABA</th>\n",
       "      <td>67.077244</td>\n",
       "      <td>97.932145</td>\n",
       "      <td>-30.854901</td>\n",
       "    </tr>\n",
       "  </tbody>\n",
       "</table>\n",
       "</div>"
      ],
      "text/plain": [
       "      Return SMA ($)  Return hold ($)  edges ($)\n",
       "META      118.804826        79.319280  39.485546\n",
       "AMZN       89.414606        83.209687   6.204919\n",
       "AAPL       83.332708        97.673546 -14.340838\n",
       "IBM        95.944877       118.281981 -22.337105\n",
       "BABA       67.077244        97.932145 -30.854901"
      ]
     },
     "execution_count": 9,
     "metadata": {},
     "output_type": "execute_result"
    }
   ],
   "source": [
    "backtesting.sorting()"
   ]
  },
  {
   "cell_type": "code",
   "execution_count": 14,
   "metadata": {
    "tags": []
   },
   "outputs": [
    {
     "name": "stdout",
     "output_type": "stream",
     "text": [
      "Simulation of \u001b[1mMETA\u001b[0m runs from \u001b[1m2022-09-23 00:00:00\u001b[0m to \u001b[1m2022-11-17 03:00:00\u001b[0m\n",
      "Winrate Method: 47.77%\n",
      "\n",
      "Return Hold                : $79.32\n",
      "return from Long Positions : $99.29\n",
      "return from Short Positions: $119.66\n",
      "Return Method              : $118.80\n"
     ]
    }
   ],
   "source": [
    "backtesting.output('META')"
   ]
  },
  {
   "cell_type": "code",
   "execution_count": 15,
   "metadata": {},
   "outputs": [],
   "source": [
    "backtesting.journal('META')"
   ]
  }
 ],
 "metadata": {
  "kernelspec": {
   "display_name": "Python 3 (ipykernel)",
   "language": "python",
   "name": "python3"
  },
  "language_info": {
   "codemirror_mode": {
    "name": "ipython",
    "version": 3
   },
   "file_extension": ".py",
   "mimetype": "text/x-python",
   "name": "python",
   "nbconvert_exporter": "python",
   "pygments_lexer": "ipython3",
   "version": "3.9.13"
  }
 },
 "nbformat": 4,
 "nbformat_minor": 4
}
